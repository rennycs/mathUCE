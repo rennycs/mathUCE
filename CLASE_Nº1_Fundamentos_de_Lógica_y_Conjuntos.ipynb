# Clase Nº1: Fundamentos de Lógica y Conjuntos

# Lógica Proposicional
# La lógica proposicional se encarga de estudiar las proposiciones, que son oraciones a las que se les puede asignar un valor de verdad (verdadero o falso).
# Estas proposiciones pueden combinarse usando conectores lógicos como:

# Conjunción (y): Representada por ∧, es verdadera solo si ambas proposiciones son verdaderas.
# Ejemplo: "El cielo es azul ∧ la hierba es verde".
def conjuncion(p, q):
    return p and q

# Disyunción (o): Representada por ∨, es verdadera si al menos una de las proposiciones es verdadera.
# Ejemplo: "Está lloviendo ∨ hace sol".
def disyuncion(p, q):
    return p or q

# Negación (no): Representada por ¬, cambia el valor de verdad de una proposición.
# Ejemplo: "¬ Está lloviendo" (significa que no está lloviendo).
def negacion(p):
    return not p

# Implicación (si... entonces): Representada por →, es falsa solo si la primera proposición es verdadera y la segunda es falsa.
# Ejemplo: "Si llueve, entonces la calle está mojada".
def implicacion(p, q):
    return not p or q

# Equivalencia (si y solo si): Representada por ↔, es verdadera si ambas proposiciones tienen el mismo valor de verdad.
# Ejemplo: "Un triángulo es equilátero si y solo si tiene tres lados iguales".
def equivalencia(p, q):
    return p == q

# Ejemplos
p = True
q = False
print("Conjunción:", conjuncion(p, q)) # False
print("Disyunción:", disyuncion(p, q)) # True
print("Negación de p:", negacion(p)) # False
print("Implicación:", implicacion(p, q)) # False
print("Equivalencia:", equivalencia(p, q)) # False

# Cuantificadores
# Los cuantificadores se usan para expresar propiedades de conjuntos de elementos:

# Cuantificador Universal (para todo): Representado por ∀, indica que una propiedad se cumple para todos los elementos de un conjunto.
# Ejemplo: "∀x ∈ N, x ≥ 0" (todos los números naturales son mayores o iguales a cero).
def cuantificador_universal(conjunto, propiedad):
    return all(propiedad(x) for x in conjunto)

# Cuantificador Existencial (existe): Representado por ∃, indica que existe al menos un elemento en un conjunto que cumple una propiedad.
# Ejemplo: "∃x ∈ R, x² = 4" (existe al menos un número real cuyo cuadrado es 4).
def cuantificador_existencial(conjunto, propiedad):
    return any(propiedad(x) for x in conjunto)

# Ejemplos
N = [0, 1, 2, 3, 4, 5]
propiedad_universal = lambda x: x >= 0
propiedad_existencial = lambda x: x**2 == 4
print("Cuantificador Universal:", cuantificador_universal(N, propiedad_universal)) # True
print("Cuantificador Existencial:", cuantificador_existencial(N, propiedad_existencial)) # True

# Teoría de Conjuntos
# La teoría de conjuntos estudia las colecciones de objetos llamados conjuntos.

# Conjunto: Una colección de elementos bien definidos. Se denotan con letras mayúsculas (A, B, C...).
# Ejemplo: A = {1, 2, 3} (el conjunto A contiene los elementos 1, 2 y 3).
A = {1, 2, 3}

# Elemento: Un objeto que pertenece a un conjunto. Se denotan con letras minúsculas (x, y, z...).
# Ejemplo: 2 ∈ A (el elemento 2 pertenece al conjunto A).
def pertenece(elemento, conjunto):
    return elemento in conjunto

# Subconjunto: Un conjunto A es subconjunto de otro conjunto B (A ⊆ B) si todos los elementos de A también pertenecen a B.
# Ejemplo: {1, 2} ⊆ {1, 2, 3}.
def subconjunto(A, B):
    return A.issubset(B)

# Operaciones entre Conjuntos

# Unión (∪): El conjunto que contiene todos los elementos de ambos conjuntos.
# Ejemplo: {1, 2} ∪ {2, 3} = {1, 2, 3}.
def union(A, B):
    return A.union(B)

# Intersección (∩): El conjunto que contiene los elementos comunes a ambos conjuntos.
# Ejemplo: {1, 2} ∩ {2, 3} = {2}.
def interseccion(A, B):
    return A.intersection(B)

# Complemento (∁): El conjunto de elementos que pertenecen al conjunto universal pero no al conjunto dado.
# Ejemplo: Si el conjunto universal es {1, 2, 3, 4} y A = {1, 2}, entonces ∁A = {3, 4}.
def complemento(universal, A):
    return universal.difference(A)

# Relación entre Lógica y Conjuntos
# Las operaciones entre conjuntos se pueden expresar mediante conectores lógicos:

# Intersección (∩) y Conjunción (∧): x ∈ A ∩ B si y solo si x ∈ A ∧ x ∈ B.
# Unión (∪) y Disyunción (∨): x ∈ A ∪ B si y solo si x ∈ A ∨ x ∈ B.
# Complemento (∁) y Negación (¬): x ∈ ∁A si y solo si ¬(x ∈ A).

# Ejemplo Práctico
# La diferencia entre "para todo x existe un y tal que x + 10 = 0" y "existe un y tal que para todo x, x + 10 = 0" muestra cómo el orden de los cuantificadores afecta el significado lógico de una proposición.
# El primero es verdadero (porque para cada x, podemos encontrar un y que cumpla con la ecuación), mientras que el segundo es falso (porque no hay un único y que funcione para todos los valores de x).

def ejemplo_practico():
    # "Para todo x existe un y tal que x + 10 = 0"
    propiedad1 = lambda x: any(y == -x - 10 for y in range(-100, 100))
    resultado1 = cuantificador_universal(range(-100, 100), propiedad1)
    
    # "Existe un y tal que para todo x, x + 10 = 0"
    propiedad2 = lambda y: all(x + 10 == -y for x in range(-100, 100))
    resultado2 = cuantificador_existencial(range(-100, 100), propiedad2)
    
    return resultado1, resultado2

print("Ejemplo Práctico:", ejemplo_practico()) # (True, False)
# Importar las bibliotecas necesarias
import matplotlib.pyplot as plt
from IPython.display import SVG

# Definir la ruta de la imagen
image_path = '/mnt/data/Intersección_entre_conjuntos.svg'

# Mostrar la imagen SVG
display(SVG(image_path))
